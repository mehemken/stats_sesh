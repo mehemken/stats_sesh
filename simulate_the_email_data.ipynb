{
 "cells": [
  {
   "cell_type": "code",
   "execution_count": 11,
   "metadata": {
    "collapsed": true
   },
   "outputs": [],
   "source": [
    "# Some style stuff for the plots\n",
    "\n",
    "import numpy as np\n",
    "import pandas as pd\n",
    "from matplotlib import pyplot as plt\n",
    "from scipy import stats\n",
    "import matplotlib.style as mplstyle\n",
    "%matplotlib inline\n",
    "mplstyle.use('ggplot')"
   ]
  },
  {
   "cell_type": "markdown",
   "metadata": {},
   "source": [
    "I need a set of distibutions 2 through 600, where each one represents a distribution of open rates such that at the first distribution (2) there can only be open rates of 0%, 50% and 100%. At the second (3) there can only be 0, 33.33%, 66.66% and 100% open rates and so on.\n",
    "\n",
    "But let's start off simple. Let's simulate just the first distribution first. I need a binomial distribution with an average at .2 with three possible scenarios."
   ]
  },
  {
   "cell_type": "code",
   "execution_count": null,
   "metadata": {
    "collapsed": true
   },
   "outputs": [],
   "source": [
    "n = 1\n",
    "k = 2\n",
    "\n",
    "x = np.arange(0, 50)  # For the x axis\n",
    "dist = stats.binom.pmf(x, n, p)  # Probability mass function, aka the maths\n",
    "\n",
    "plt.plot(x, dist, color='b')\n",
    "plt.title('Theoretical probability density of the monkeys\\' scores')\n",
    "plt.ylabel('Frequency of results')\n",
    "plt.xlabel('Questions answered correctly')"
   ]
  },
  {
   "cell_type": "code",
   "execution_count": 5,
   "metadata": {},
   "outputs": [
    {
     "name": "stdout",
     "output_type": "stream",
     "text": [
      "0.6000000000000001 0.4800000000000001 0.8660254037844386 0.08333333333333293\n"
     ]
    }
   ],
   "source": [
    "n, p = 3, 0.2\n",
    "mean, var, skew, kurt = stats.binom.stats(n, p, moments='mvsk')\n",
    "\n",
    "print(mean, var, skew, kurt)"
   ]
  },
  {
   "cell_type": "code",
   "execution_count": 8,
   "metadata": {},
   "outputs": [
    {
     "data": {
      "text/plain": [
       "array([1, 0, 1, 0, 1, 0, 0, 0, 1, 1, 0, 0, 1, 0, 0, 0, 1, 0, 1, 1, 0, 0, 1,\n",
       "       0, 0, 1, 0, 0, 1, 0, 0, 0, 1, 0, 0, 0, 1, 1, 1, 0, 0, 1, 0, 0, 1, 0,\n",
       "       2, 0, 0, 0, 1, 0, 0, 1, 0, 1, 0, 0, 0, 0, 0, 0, 1, 1, 0, 1, 0, 0, 0,\n",
       "       1, 0, 0, 0, 0, 1, 1, 0, 0, 0, 0, 0, 0, 1, 0, 0, 1, 0, 1, 1, 0, 0, 0,\n",
       "       0, 2, 0, 0, 0, 1, 0, 1])"
      ]
     },
     "execution_count": 8,
     "metadata": {},
     "output_type": "execute_result"
    }
   ],
   "source": [
    "foo = np.random.binomial(2, .2, 100)\n",
    "\n",
    "foo"
   ]
  },
  {
   "cell_type": "code",
   "execution_count": 34,
   "metadata": {},
   "outputs": [
    {
     "data": {
      "text/plain": [
       "array([ 0.5,  0. ,  0.5,  0. ,  0.5,  0. ,  0. ,  0. ,  0.5,  0.5,  0. ,\n",
       "        0. ,  0.5,  0. ,  0. ,  0. ,  0.5,  0. ,  0.5,  0.5,  0. ,  0. ,\n",
       "        0.5,  0. ,  0. ,  0.5,  0. ,  0. ,  0.5,  0. ,  0. ,  0. ,  0.5,\n",
       "        0. ,  0. ,  0. ,  0.5,  0.5,  0.5,  0. ,  0. ,  0.5,  0. ,  0. ,\n",
       "        0.5,  0. ,  1. ,  0. ,  0. ,  0. ,  0.5,  0. ,  0. ,  0.5,  0. ,\n",
       "        0.5,  0. ,  0. ,  0. ,  0. ,  0. ,  0. ,  0.5,  0.5,  0. ,  0.5,\n",
       "        0. ,  0. ,  0. ,  0.5,  0. ,  0. ,  0. ,  0. ,  0.5,  0.5,  0. ,\n",
       "        0. ,  0. ,  0. ,  0. ,  0. ,  0.5,  0. ,  0. ,  0.5,  0. ,  0.5,\n",
       "        0.5,  0. ,  0. ,  0. ,  0. ,  1. ,  0. ,  0. ,  0. ,  0.5,  0. ,\n",
       "        0.5])"
      ]
     },
     "execution_count": 34,
     "metadata": {},
     "output_type": "execute_result"
    }
   ],
   "source": [
    "foo / 2"
   ]
  },
  {
   "cell_type": "code",
   "execution_count": 71,
   "metadata": {},
   "outputs": [
    {
     "data": {
      "text/html": [
       "<div>\n",
       "<style>\n",
       "    .dataframe thead tr:only-child th {\n",
       "        text-align: right;\n",
       "    }\n",
       "\n",
       "    .dataframe thead th {\n",
       "        text-align: left;\n",
       "    }\n",
       "\n",
       "    .dataframe tbody tr th {\n",
       "        vertical-align: top;\n",
       "    }\n",
       "</style>\n",
       "<table border=\"1\" class=\"dataframe\">\n",
       "  <thead>\n",
       "    <tr style=\"text-align: right;\">\n",
       "      <th></th>\n",
       "      <th>n2</th>\n",
       "      <th>n3</th>\n",
       "      <th>n4</th>\n",
       "      <th>n5</th>\n",
       "      <th>n6</th>\n",
       "      <th>n7</th>\n",
       "      <th>n8</th>\n",
       "      <th>n9</th>\n",
       "      <th>n10</th>\n",
       "      <th>n11</th>\n",
       "      <th>...</th>\n",
       "      <th>n591</th>\n",
       "      <th>n592</th>\n",
       "      <th>n593</th>\n",
       "      <th>n594</th>\n",
       "      <th>n595</th>\n",
       "      <th>n596</th>\n",
       "      <th>n597</th>\n",
       "      <th>n598</th>\n",
       "      <th>n599</th>\n",
       "      <th>n600</th>\n",
       "    </tr>\n",
       "  </thead>\n",
       "  <tbody>\n",
       "    <tr>\n",
       "      <th>0</th>\n",
       "      <td>0.5</td>\n",
       "      <td>0.000000</td>\n",
       "      <td>0.25</td>\n",
       "      <td>0.0</td>\n",
       "      <td>0.166667</td>\n",
       "      <td>0.285714</td>\n",
       "      <td>0.125</td>\n",
       "      <td>0.000000</td>\n",
       "      <td>0.5</td>\n",
       "      <td>0.181818</td>\n",
       "      <td>...</td>\n",
       "      <td>0.192893</td>\n",
       "      <td>0.189189</td>\n",
       "      <td>0.185497</td>\n",
       "      <td>0.227273</td>\n",
       "      <td>0.188235</td>\n",
       "      <td>0.203020</td>\n",
       "      <td>0.197655</td>\n",
       "      <td>0.185619</td>\n",
       "      <td>0.212020</td>\n",
       "      <td>0.210000</td>\n",
       "    </tr>\n",
       "    <tr>\n",
       "      <th>1</th>\n",
       "      <td>0.0</td>\n",
       "      <td>0.333333</td>\n",
       "      <td>0.50</td>\n",
       "      <td>0.4</td>\n",
       "      <td>0.000000</td>\n",
       "      <td>0.142857</td>\n",
       "      <td>0.375</td>\n",
       "      <td>0.222222</td>\n",
       "      <td>0.2</td>\n",
       "      <td>0.090909</td>\n",
       "      <td>...</td>\n",
       "      <td>0.201354</td>\n",
       "      <td>0.207770</td>\n",
       "      <td>0.204047</td>\n",
       "      <td>0.218855</td>\n",
       "      <td>0.196639</td>\n",
       "      <td>0.192953</td>\n",
       "      <td>0.170854</td>\n",
       "      <td>0.197324</td>\n",
       "      <td>0.195326</td>\n",
       "      <td>0.195000</td>\n",
       "    </tr>\n",
       "    <tr>\n",
       "      <th>2</th>\n",
       "      <td>1.0</td>\n",
       "      <td>0.000000</td>\n",
       "      <td>0.25</td>\n",
       "      <td>0.0</td>\n",
       "      <td>0.000000</td>\n",
       "      <td>0.142857</td>\n",
       "      <td>0.250</td>\n",
       "      <td>0.333333</td>\n",
       "      <td>0.5</td>\n",
       "      <td>0.272727</td>\n",
       "      <td>...</td>\n",
       "      <td>0.209814</td>\n",
       "      <td>0.197635</td>\n",
       "      <td>0.182125</td>\n",
       "      <td>0.210438</td>\n",
       "      <td>0.196639</td>\n",
       "      <td>0.229866</td>\n",
       "      <td>0.252931</td>\n",
       "      <td>0.195652</td>\n",
       "      <td>0.186978</td>\n",
       "      <td>0.210000</td>\n",
       "    </tr>\n",
       "    <tr>\n",
       "      <th>3</th>\n",
       "      <td>0.0</td>\n",
       "      <td>0.333333</td>\n",
       "      <td>0.25</td>\n",
       "      <td>0.4</td>\n",
       "      <td>0.333333</td>\n",
       "      <td>0.000000</td>\n",
       "      <td>0.125</td>\n",
       "      <td>0.111111</td>\n",
       "      <td>0.0</td>\n",
       "      <td>0.272727</td>\n",
       "      <td>...</td>\n",
       "      <td>0.225042</td>\n",
       "      <td>0.190878</td>\n",
       "      <td>0.214165</td>\n",
       "      <td>0.171717</td>\n",
       "      <td>0.179832</td>\n",
       "      <td>0.172819</td>\n",
       "      <td>0.211055</td>\n",
       "      <td>0.205686</td>\n",
       "      <td>0.205342</td>\n",
       "      <td>0.208333</td>\n",
       "    </tr>\n",
       "    <tr>\n",
       "      <th>4</th>\n",
       "      <td>0.5</td>\n",
       "      <td>0.333333</td>\n",
       "      <td>0.50</td>\n",
       "      <td>0.2</td>\n",
       "      <td>0.333333</td>\n",
       "      <td>0.142857</td>\n",
       "      <td>0.125</td>\n",
       "      <td>0.111111</td>\n",
       "      <td>0.0</td>\n",
       "      <td>0.272727</td>\n",
       "      <td>...</td>\n",
       "      <td>0.223350</td>\n",
       "      <td>0.189189</td>\n",
       "      <td>0.209106</td>\n",
       "      <td>0.225589</td>\n",
       "      <td>0.181513</td>\n",
       "      <td>0.214765</td>\n",
       "      <td>0.189280</td>\n",
       "      <td>0.217391</td>\n",
       "      <td>0.217028</td>\n",
       "      <td>0.170000</td>\n",
       "    </tr>\n",
       "  </tbody>\n",
       "</table>\n",
       "<p>5 rows × 599 columns</p>\n",
       "</div>"
      ],
      "text/plain": [
       "    n2        n3    n4   n5        n6        n7     n8        n9  n10  \\\n",
       "0  0.5  0.000000  0.25  0.0  0.166667  0.285714  0.125  0.000000  0.5   \n",
       "1  0.0  0.333333  0.50  0.4  0.000000  0.142857  0.375  0.222222  0.2   \n",
       "2  1.0  0.000000  0.25  0.0  0.000000  0.142857  0.250  0.333333  0.5   \n",
       "3  0.0  0.333333  0.25  0.4  0.333333  0.000000  0.125  0.111111  0.0   \n",
       "4  0.5  0.333333  0.50  0.2  0.333333  0.142857  0.125  0.111111  0.0   \n",
       "\n",
       "        n11    ...         n591      n592      n593      n594      n595  \\\n",
       "0  0.181818    ...     0.192893  0.189189  0.185497  0.227273  0.188235   \n",
       "1  0.090909    ...     0.201354  0.207770  0.204047  0.218855  0.196639   \n",
       "2  0.272727    ...     0.209814  0.197635  0.182125  0.210438  0.196639   \n",
       "3  0.272727    ...     0.225042  0.190878  0.214165  0.171717  0.179832   \n",
       "4  0.272727    ...     0.223350  0.189189  0.209106  0.225589  0.181513   \n",
       "\n",
       "       n596      n597      n598      n599      n600  \n",
       "0  0.203020  0.197655  0.185619  0.212020  0.210000  \n",
       "1  0.192953  0.170854  0.197324  0.195326  0.195000  \n",
       "2  0.229866  0.252931  0.195652  0.186978  0.210000  \n",
       "3  0.172819  0.211055  0.205686  0.205342  0.208333  \n",
       "4  0.214765  0.189280  0.217391  0.217028  0.170000  \n",
       "\n",
       "[5 rows x 599 columns]"
      ]
     },
     "execution_count": 71,
     "metadata": {},
     "output_type": "execute_result"
    }
   ],
   "source": [
    "def binomial_email_dists(N=100, p=0.2):\n",
    "    \"\"\"\"\"\"\n",
    "    df = pd.DataFrame()\n",
    "    \n",
    "    for n in range(2,601):\n",
    "        bar = np.random.binomial(n, p, N)\n",
    "        df[f'n{n}'] = bar / n\n",
    "        \n",
    "    return df\n",
    "\n",
    "bar = binomial_email_dists()\n",
    "\n",
    "bar.head()"
   ]
  },
  {
   "cell_type": "code",
   "execution_count": 80,
   "metadata": {},
   "outputs": [
    {
     "name": "stdout",
     "output_type": "stream",
     "text": [
      "n2 0.22\n",
      "n33 0.202121212121\n",
      "n64 0.20546875\n",
      "n95 0.198842105263\n",
      "n126 0.20626984127\n",
      "n157 0.201592356688\n",
      "n188 0.20329787234\n",
      "n219 0.2000456621\n",
      "n250 0.1974\n",
      "n281 0.2\n",
      "n312 0.199935897436\n",
      "n343 0.201486880466\n",
      "n374 0.198930481283\n",
      "n405 0.202074074074\n",
      "n436 0.199793577982\n",
      "n467 0.199614561028\n",
      "n498 0.20281124498\n",
      "n529 0.201190926276\n",
      "n560 0.199785714286\n",
      "n591 0.197817258883\n"
     ]
    }
   ],
   "source": [
    "for name in bar.columns[::31]:\n",
    "    print(name, bar[f'{name}'].mean())"
   ]
  },
  {
   "cell_type": "markdown",
   "metadata": {},
   "source": [
    "Ok so that's the kind of data frame I want. Kind of. This is too neat. There are exactly 100 instances at each level. The real data will not look like that. I'll need dummy data. How do I do that? Ok so each record will have a few key statistics\n",
    "\n",
    "1. ID\n",
    "1. Number of emails received\n",
    "1. Number of emails opened\n",
    "\n",
    "So I can say each person gets a number of emails. For example some random number between 2 and 600. The number of emails opened is an np.random.binom number based on the number of emails received.\n",
    "\n",
    "Ok how do I generate the random number and the binomial open rate?"
   ]
  },
  {
   "cell_type": "code",
   "execution_count": 100,
   "metadata": {},
   "outputs": [
    {
     "name": "stdout",
     "output_type": "stream",
     "text": [
      "419 85\n"
     ]
    }
   ],
   "source": [
    "a = np.random.randint(0, 600)\n",
    "b = np.random.binomial(a, .2)\n",
    "\n",
    "print(a, b)"
   ]
  }
 ],
 "metadata": {
  "kernelspec": {
   "display_name": "Python 3",
   "language": "python",
   "name": "python3"
  },
  "language_info": {
   "codemirror_mode": {
    "name": "ipython",
    "version": 3
   },
   "file_extension": ".py",
   "mimetype": "text/x-python",
   "name": "python",
   "nbconvert_exporter": "python",
   "pygments_lexer": "ipython3",
   "version": "3.6.3"
  }
 },
 "nbformat": 4,
 "nbformat_minor": 2
}

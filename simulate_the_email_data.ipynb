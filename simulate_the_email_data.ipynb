{
 "cells": [
  {
   "cell_type": "code",
   "execution_count": 1,
   "metadata": {
    "collapsed": true
   },
   "outputs": [],
   "source": [
    "# Some style stuff for the plots\n",
    "\n",
    "import numpy as np\n",
    "import pandas as pd\n",
    "from matplotlib import pyplot as plt\n",
    "from scipy import stats\n",
    "import matplotlib.style as mplstyle\n",
    "%matplotlib inline\n",
    "mplstyle.use('ggplot')"
   ]
  },
  {
   "cell_type": "markdown",
   "metadata": {},
   "source": [
    "I need a set of distibutions 2 through 600, where each one represents a distribution of open rates such that at the first distribution (2) there can only be open rates of 0%, 50% and 100%. At the second (3) there can only be 0, 33.33%, 66.66% and 100% open rates and so on.\n",
    "\n",
    "But let's start off simple. Let's simulate just the first distribution first. I need a binomial distribution with an average at .2 with three possible scenarios."
   ]
  },
  {
   "cell_type": "code",
   "execution_count": 50,
   "metadata": {},
   "outputs": [
    {
     "data": {
      "text/plain": [
       "Text(0.5,0,'Questions answered correctly')"
      ]
     },
     "execution_count": 50,
     "metadata": {},
     "output_type": "execute_result"
    },
    {
     "data": {
      "image/png": "[encoded data removed]",
      "text/plain": [
       "<matplotlib.figure.Figure at 0x7f40dd0b88d0>"
      ]
     },
     "metadata": {},
     "output_type": "display_data"
    }
   ],
   "source": [
    "n = 50  # number of emails\n",
    "p = .2  # hypothesis of open rate\n",
    "x = np.arange(0, 50)  # x axis limits\n",
    "\n",
    "dist = stats.binom.pmf(x, n, p)  # Probability mass function, aka the maths\n",
    "\n",
    "plt.plot(x, dist, color='b')\n",
    "plt.title(f'Binomial distribution where open rate = {p} and emails received = {n}')\n",
    "plt.ylabel('Frequency of results')\n",
    "plt.xlabel('Questions answered correctly')"
   ]
  },
  {
   "cell_type": "code",
   "execution_count": 53,
   "metadata": {},
   "outputs": [
    {
     "data": {
      "text/plain": [
       "array([1, 1, 0, 0, 0, 0, 0, 1, 2, 0])"
      ]
     },
     "execution_count": 53,
     "metadata": {},
     "output_type": "execute_result"
    }
   ],
   "source": [
    "foo = np.random.binomial(2, .2, 10)\n",
    "\n",
    "foo"
   ]
  },
  {
   "cell_type": "code",
   "execution_count": 56,
   "metadata": {},
   "outputs": [
    {
     "data": {
      "text/plain": [
       "[(1, 0.5),\n",
       " (1, 0.5),\n",
       " (0, 0.0),\n",
       " (0, 0.0),\n",
       " (0, 0.0),\n",
       " (0, 0.0),\n",
       " (0, 0.0),\n",
       " (1, 0.5),\n",
       " (2, 1.0),\n",
       " (0, 0.0)]"
      ]
     },
     "execution_count": 56,
     "metadata": {},
     "output_type": "execute_result"
    }
   ],
   "source": [
    "# opened emails and open rate\n",
    "\n",
    "list(zip(foo, foo / 2))"
   ]
  },
  {
   "cell_type": "code",
   "execution_count": 6,
   "metadata": {},
   "outputs": [
    {
     "data": {
      "text/html": [
       "<div>\n",
       "<style>\n",
       "    .dataframe thead tr:only-child th {\n",
       "        text-align: right;\n",
       "    }\n",
       "\n",
       "    .dataframe thead th {\n",
       "        text-align: left;\n",
       "    }\n",
       "\n",
       "    .dataframe tbody tr th {\n",
       "        vertical-align: top;\n",
       "    }\n",
       "</style>\n",
       "<table border=\"1\" class=\"dataframe\">\n",
       "  <thead>\n",
       "    <tr style=\"text-align: right;\">\n",
       "      <th></th>\n",
       "      <th>n2</th>\n",
       "      <th>n3</th>\n",
       "      <th>n4</th>\n",
       "      <th>n5</th>\n",
       "      <th>n6</th>\n",
       "      <th>n7</th>\n",
       "      <th>n8</th>\n",
       "      <th>n9</th>\n",
       "      <th>n10</th>\n",
       "      <th>n11</th>\n",
       "      <th>...</th>\n",
       "      <th>n591</th>\n",
       "      <th>n592</th>\n",
       "      <th>n593</th>\n",
       "      <th>n594</th>\n",
       "      <th>n595</th>\n",
       "      <th>n596</th>\n",
       "      <th>n597</th>\n",
       "      <th>n598</th>\n",
       "      <th>n599</th>\n",
       "      <th>n600</th>\n",
       "    </tr>\n",
       "  </thead>\n",
       "  <tbody>\n",
       "    <tr>\n",
       "      <th>0</th>\n",
       "      <td>0.0</td>\n",
       "      <td>0.000000</td>\n",
       "      <td>0.25</td>\n",
       "      <td>0.0</td>\n",
       "      <td>0.333333</td>\n",
       "      <td>0.142857</td>\n",
       "      <td>0.375</td>\n",
       "      <td>0.333333</td>\n",
       "      <td>0.2</td>\n",
       "      <td>0.090909</td>\n",
       "      <td>...</td>\n",
       "      <td>0.196277</td>\n",
       "      <td>0.177365</td>\n",
       "      <td>0.217538</td>\n",
       "      <td>0.213805</td>\n",
       "      <td>0.181513</td>\n",
       "      <td>0.199664</td>\n",
       "      <td>0.189280</td>\n",
       "      <td>0.182274</td>\n",
       "      <td>0.227045</td>\n",
       "      <td>0.208333</td>\n",
       "    </tr>\n",
       "    <tr>\n",
       "      <th>1</th>\n",
       "      <td>0.5</td>\n",
       "      <td>0.000000</td>\n",
       "      <td>0.25</td>\n",
       "      <td>0.2</td>\n",
       "      <td>0.000000</td>\n",
       "      <td>0.428571</td>\n",
       "      <td>0.250</td>\n",
       "      <td>0.333333</td>\n",
       "      <td>0.4</td>\n",
       "      <td>0.272727</td>\n",
       "      <td>...</td>\n",
       "      <td>0.187817</td>\n",
       "      <td>0.180743</td>\n",
       "      <td>0.210793</td>\n",
       "      <td>0.178451</td>\n",
       "      <td>0.181513</td>\n",
       "      <td>0.203020</td>\n",
       "      <td>0.222781</td>\n",
       "      <td>0.235786</td>\n",
       "      <td>0.196995</td>\n",
       "      <td>0.231667</td>\n",
       "    </tr>\n",
       "    <tr>\n",
       "      <th>2</th>\n",
       "      <td>0.0</td>\n",
       "      <td>0.666667</td>\n",
       "      <td>0.50</td>\n",
       "      <td>0.4</td>\n",
       "      <td>0.166667</td>\n",
       "      <td>0.142857</td>\n",
       "      <td>0.250</td>\n",
       "      <td>0.333333</td>\n",
       "      <td>0.1</td>\n",
       "      <td>0.272727</td>\n",
       "      <td>...</td>\n",
       "      <td>0.189509</td>\n",
       "      <td>0.199324</td>\n",
       "      <td>0.192243</td>\n",
       "      <td>0.195286</td>\n",
       "      <td>0.211765</td>\n",
       "      <td>0.174497</td>\n",
       "      <td>0.202680</td>\n",
       "      <td>0.224080</td>\n",
       "      <td>0.166945</td>\n",
       "      <td>0.220000</td>\n",
       "    </tr>\n",
       "    <tr>\n",
       "      <th>3</th>\n",
       "      <td>0.0</td>\n",
       "      <td>0.333333</td>\n",
       "      <td>0.25</td>\n",
       "      <td>0.2</td>\n",
       "      <td>0.166667</td>\n",
       "      <td>0.142857</td>\n",
       "      <td>0.250</td>\n",
       "      <td>0.222222</td>\n",
       "      <td>0.2</td>\n",
       "      <td>0.181818</td>\n",
       "      <td>...</td>\n",
       "      <td>0.197970</td>\n",
       "      <td>0.168919</td>\n",
       "      <td>0.205734</td>\n",
       "      <td>0.237374</td>\n",
       "      <td>0.201681</td>\n",
       "      <td>0.209732</td>\n",
       "      <td>0.202680</td>\n",
       "      <td>0.193980</td>\n",
       "      <td>0.171953</td>\n",
       "      <td>0.193333</td>\n",
       "    </tr>\n",
       "    <tr>\n",
       "      <th>4</th>\n",
       "      <td>0.0</td>\n",
       "      <td>0.333333</td>\n",
       "      <td>0.00</td>\n",
       "      <td>0.2</td>\n",
       "      <td>0.666667</td>\n",
       "      <td>0.142857</td>\n",
       "      <td>0.250</td>\n",
       "      <td>0.000000</td>\n",
       "      <td>0.1</td>\n",
       "      <td>0.272727</td>\n",
       "      <td>...</td>\n",
       "      <td>0.201354</td>\n",
       "      <td>0.202703</td>\n",
       "      <td>0.204047</td>\n",
       "      <td>0.222222</td>\n",
       "      <td>0.218487</td>\n",
       "      <td>0.166107</td>\n",
       "      <td>0.227806</td>\n",
       "      <td>0.200669</td>\n",
       "      <td>0.200334</td>\n",
       "      <td>0.200000</td>\n",
       "    </tr>\n",
       "  </tbody>\n",
       "</table>\n",
       "<p>5 rows × 599 columns</p>\n",
       "</div>"
      ],
      "text/plain": [
       "    n2        n3    n4   n5        n6        n7     n8        n9  n10  \\\n",
       "0  0.0  0.000000  0.25  0.0  0.333333  0.142857  0.375  0.333333  0.2   \n",
       "1  0.5  0.000000  0.25  0.2  0.000000  0.428571  0.250  0.333333  0.4   \n",
       "2  0.0  0.666667  0.50  0.4  0.166667  0.142857  0.250  0.333333  0.1   \n",
       "3  0.0  0.333333  0.25  0.2  0.166667  0.142857  0.250  0.222222  0.2   \n",
       "4  0.0  0.333333  0.00  0.2  0.666667  0.142857  0.250  0.000000  0.1   \n",
       "\n",
       "        n11    ...         n591      n592      n593      n594      n595  \\\n",
       "0  0.090909    ...     0.196277  0.177365  0.217538  0.213805  0.181513   \n",
       "1  0.272727    ...     0.187817  0.180743  0.210793  0.178451  0.181513   \n",
       "2  0.272727    ...     0.189509  0.199324  0.192243  0.195286  0.211765   \n",
       "3  0.181818    ...     0.197970  0.168919  0.205734  0.237374  0.201681   \n",
       "4  0.272727    ...     0.201354  0.202703  0.204047  0.222222  0.218487   \n",
       "\n",
       "       n596      n597      n598      n599      n600  \n",
       "0  0.199664  0.189280  0.182274  0.227045  0.208333  \n",
       "1  0.203020  0.222781  0.235786  0.196995  0.231667  \n",
       "2  0.174497  0.202680  0.224080  0.166945  0.220000  \n",
       "3  0.209732  0.202680  0.193980  0.171953  0.193333  \n",
       "4  0.166107  0.227806  0.200669  0.200334  0.200000  \n",
       "\n",
       "[5 rows x 599 columns]"
      ]
     },
     "execution_count": 6,
     "metadata": {},
     "output_type": "execute_result"
    }
   ],
   "source": [
    "def binomial_email_dists(N=100, p=0.2):\n",
    "    \"\"\"\"\"\"\n",
    "    df = pd.DataFrame()\n",
    "    \n",
    "    for n in range(2,601):\n",
    "        bar = np.random.binomial(n, p, N)\n",
    "        df[f'n{n}'] = bar / n\n",
    "        \n",
    "    return df\n",
    "\n",
    "bar = binomial_email_dists()\n",
    "\n",
    "bar.head()"
   ]
  },
  {
   "cell_type": "code",
   "execution_count": 7,
   "metadata": {},
   "outputs": [
    {
     "name": "stdout",
     "output_type": "stream",
     "text": [
      "n2 0.25\n",
      "n33 0.214545454545\n",
      "n64 0.201875\n",
      "n95 0.199578947368\n",
      "n126 0.195396825397\n",
      "n157 0.202420382166\n",
      "n188 0.187872340426\n",
      "n219 0.202100456621\n",
      "n250 0.20344\n",
      "n281 0.199928825623\n",
      "n312 0.201955128205\n",
      "n343 0.202186588921\n",
      "n374 0.200561497326\n",
      "n405 0.19762962963\n",
      "n436 0.197224770642\n",
      "n467 0.200728051392\n",
      "n498 0.199036144578\n",
      "n529 0.200945179584\n",
      "n560 0.2025\n",
      "n591 0.198815566836\n"
     ]
    }
   ],
   "source": [
    "for name in bar.columns[::31]:\n",
    "    print(name, bar[f'{name}'].mean())"
   ]
  },
  {
   "cell_type": "markdown",
   "metadata": {},
   "source": [
    "Ok so that's the kind of data frame I want. Kind of. This is too neat. There are exactly 100 instances at each level. The real data will not look like that. I'll need dummy data. How do I do that? Ok so each record will have a few key statistics\n",
    "\n",
    "1. ID\n",
    "1. Number of emails received\n",
    "1. Number of emails opened\n",
    "1. Open rate\n",
    "\n",
    "So I can say each person gets a number of emails. For example some random number between 2 and 600. The number of emails opened is an np.random.binom number based on the number of emails received.\n",
    "\n",
    "Ok how do I generate the random number and the binomial open rate?"
   ]
  },
  {
   "cell_type": "code",
   "execution_count": 8,
   "metadata": {},
   "outputs": [
    {
     "name": "stdout",
     "output_type": "stream",
     "text": [
      "400 74\n"
     ]
    }
   ],
   "source": [
    "a = np.random.randint(0, 600)\n",
    "b = np.random.binomial(a, .2)\n",
    "\n",
    "print(a, b)"
   ]
  },
  {
   "cell_type": "code",
   "execution_count": 45,
   "metadata": {},
   "outputs": [
    {
     "data": {
      "text/html": [
       "<div>\n",
       "<style>\n",
       "    .dataframe thead tr:only-child th {\n",
       "        text-align: right;\n",
       "    }\n",
       "\n",
       "    .dataframe thead th {\n",
       "        text-align: left;\n",
       "    }\n",
       "\n",
       "    .dataframe tbody tr th {\n",
       "        vertical-align: top;\n",
       "    }\n",
       "</style>\n",
       "<table border=\"1\" class=\"dataframe\">\n",
       "  <thead>\n",
       "    <tr style=\"text-align: right;\">\n",
       "      <th></th>\n",
       "      <th>0</th>\n",
       "    </tr>\n",
       "  </thead>\n",
       "  <tbody>\n",
       "    <tr>\n",
       "      <th>count</th>\n",
       "      <td>1000.000000</td>\n",
       "    </tr>\n",
       "    <tr>\n",
       "      <th>mean</th>\n",
       "      <td>49.965007</td>\n",
       "    </tr>\n",
       "    <tr>\n",
       "      <th>std</th>\n",
       "      <td>10.240227</td>\n",
       "    </tr>\n",
       "    <tr>\n",
       "      <th>min</th>\n",
       "      <td>24.933874</td>\n",
       "    </tr>\n",
       "    <tr>\n",
       "      <th>25%</th>\n",
       "      <td>42.608595</td>\n",
       "    </tr>\n",
       "    <tr>\n",
       "      <th>50%</th>\n",
       "      <td>48.931997</td>\n",
       "    </tr>\n",
       "    <tr>\n",
       "      <th>75%</th>\n",
       "      <td>56.190210</td>\n",
       "    </tr>\n",
       "    <tr>\n",
       "      <th>max</th>\n",
       "      <td>90.313343</td>\n",
       "    </tr>\n",
       "  </tbody>\n",
       "</table>\n",
       "</div>"
      ],
      "text/plain": [
       "                 0\n",
       "count  1000.000000\n",
       "mean     49.965007\n",
       "std      10.240227\n",
       "min      24.933874\n",
       "25%      42.608595\n",
       "50%      48.931997\n",
       "75%      56.190210\n",
       "max      90.313343"
      ]
     },
     "execution_count": 45,
     "metadata": {},
     "output_type": "execute_result"
    }
   ],
   "source": [
    "# Or better yet, let's do a chi square distribution\n",
    "\n",
    "pd.DataFrame(np.random.chisquare(50, 1000)).describe()\n",
    "\n",
    "# nice."
   ]
  },
  {
   "cell_type": "code",
   "execution_count": 51,
   "metadata": {},
   "outputs": [],
   "source": [
    "def sim_data(mu=50, N=50):\n",
    "    \n",
    "    def emails_opened(x):\n",
    "        return np.random.binomial(x, .2)\n",
    "    \n",
    "    df = pd.DataFrame()\n",
    "    \n",
    "    df['received'] = np.floor(np.random.chisquare(mu, N))\n",
    "    df['opens'] = df['received'].apply(emails_opened)\n",
    "    df['rate'] = df['opens']/df['received']\n",
    "    \n",
    "    return df"
   ]
  },
  {
   "cell_type": "code",
   "execution_count": 102,
   "metadata": {},
   "outputs": [
    {
     "data": {
      "text/html": [
       "<div>\n",
       "<style>\n",
       "    .dataframe thead tr:only-child th {\n",
       "        text-align: right;\n",
       "    }\n",
       "\n",
       "    .dataframe thead th {\n",
       "        text-align: left;\n",
       "    }\n",
       "\n",
       "    .dataframe tbody tr th {\n",
       "        vertical-align: top;\n",
       "    }\n",
       "</style>\n",
       "<table border=\"1\" class=\"dataframe\">\n",
       "  <thead>\n",
       "    <tr style=\"text-align: right;\">\n",
       "      <th></th>\n",
       "      <th>received</th>\n",
       "      <th>opens</th>\n",
       "      <th>rate</th>\n",
       "    </tr>\n",
       "  </thead>\n",
       "  <tbody>\n",
       "    <tr>\n",
       "      <th>0</th>\n",
       "      <td>43.0</td>\n",
       "      <td>10</td>\n",
       "      <td>0.232558</td>\n",
       "    </tr>\n",
       "    <tr>\n",
       "      <th>1</th>\n",
       "      <td>49.0</td>\n",
       "      <td>12</td>\n",
       "      <td>0.244898</td>\n",
       "    </tr>\n",
       "    <tr>\n",
       "      <th>2</th>\n",
       "      <td>53.0</td>\n",
       "      <td>10</td>\n",
       "      <td>0.188679</td>\n",
       "    </tr>\n",
       "    <tr>\n",
       "      <th>3</th>\n",
       "      <td>41.0</td>\n",
       "      <td>1</td>\n",
       "      <td>0.024390</td>\n",
       "    </tr>\n",
       "    <tr>\n",
       "      <th>4</th>\n",
       "      <td>48.0</td>\n",
       "      <td>11</td>\n",
       "      <td>0.229167</td>\n",
       "    </tr>\n",
       "  </tbody>\n",
       "</table>\n",
       "</div>"
      ],
      "text/plain": [
       "   received  opens      rate\n",
       "0      43.0     10  0.232558\n",
       "1      49.0     12  0.244898\n",
       "2      53.0     10  0.188679\n",
       "3      41.0      1  0.024390\n",
       "4      48.0     11  0.229167"
      ]
     },
     "execution_count": 102,
     "metadata": {},
     "output_type": "execute_result"
    }
   ],
   "source": [
    "amt = 500_000\n",
    "\n",
    "foo = sim_data(N=amt)\n",
    "\n",
    "foo.head()"
   ]
  },
  {
   "cell_type": "code",
   "execution_count": 103,
   "metadata": {},
   "outputs": [
    {
     "data": {
      "text/plain": [
       "count    500000.000000\n",
       "mean         49.492160\n",
       "std           9.990512\n",
       "min          14.000000\n",
       "25%          42.000000\n",
       "50%          49.000000\n",
       "75%          56.000000\n",
       "max         110.000000\n",
       "Name: received, dtype: float64"
      ]
     },
     "execution_count": 103,
     "metadata": {},
     "output_type": "execute_result"
    }
   ],
   "source": [
    "foo['received'].describe()"
   ]
  },
  {
   "cell_type": "code",
   "execution_count": 104,
   "metadata": {},
   "outputs": [
    {
     "name": "stdout",
     "output_type": "stream",
     "text": [
      "20 24\n",
      "50 19658\n",
      "100 3\n"
     ]
    }
   ],
   "source": [
    "spots = [20, 50, 100]\n",
    "\n",
    "for i in spots:\n",
    "    print(i, foo['opens'][foo['received'] == i].count())"
   ]
  },
  {
   "cell_type": "code",
   "execution_count": 105,
   "metadata": {},
   "outputs": [
    {
     "data": {
      "text/plain": [
       "<matplotlib.axes._subplots.AxesSubplot at 0x7f40cf1d1e48>"
      ]
     },
     "execution_count": 105,
     "metadata": {},
     "output_type": "execute_result"
    },
    {
     "data": {
      "image/png": "[encoded data removed]",
      "text/plain": [
       "<matplotlib.figure.Figure at 0x7f40bce40208>"
      ]
     },
     "metadata": {},
     "output_type": "display_data"
    }
   ],
   "source": [
    "foo['opens'].groupby(foo['received']).count().plot()"
   ]
  },
  {
   "cell_type": "code",
   "execution_count": 110,
   "metadata": {},
   "outputs": [
    {
     "data": {
      "text/plain": [
       "<matplotlib.axes._subplots.AxesSubplot at 0x7f40cc94c1d0>"
      ]
     },
     "execution_count": 110,
     "metadata": {},
     "output_type": "execute_result"
    },
    {
     "data": {
      "image/png": "[encoded data removed]",
      "text/plain": [
       "<matplotlib.figure.Figure at 0x7f40cf20c2b0>"
      ]
     },
     "metadata": {},
     "output_type": "display_data"
    }
   ],
   "source": [
    "foo['opens'].groupby(foo['received']).count().cumsum().plot()"
   ]
  },
  {
   "cell_type": "code",
   "execution_count": 106,
   "metadata": {},
   "outputs": [
    {
     "data": {
      "text/plain": [
       "<matplotlib.axes._subplots.AxesSubplot at 0x7f40cf1ff6d8>"
      ]
     },
     "execution_count": 106,
     "metadata": {},
     "output_type": "execute_result"
    },
    {
     "data": {
      "image/png": "[encoded data removed]",
      "text/plain": [
       "<matplotlib.figure.Figure at 0x7f40bce4db70>"
      ]
     },
     "metadata": {},
     "output_type": "display_data"
    }
   ],
   "source": [
    "foo['rate'].groupby(foo['received']).mean().plot(figsize=(20,10))"
   ]
  }
 ],
 "metadata": {
  "kernelspec": {
   "display_name": "Python 3",
   "language": "python",
   "name": "python3"
  },
  "language_info": {
   "codemirror_mode": {
    "name": "ipython",
    "version": 3
   },
   "file_extension": ".py",
   "mimetype": "text/x-python",
   "name": "python",
   "nbconvert_exporter": "python",
   "pygments_lexer": "ipython3",
   "version": "3.6.3"
  }
 },
 "nbformat": 4,
 "nbformat_minor": 2
}

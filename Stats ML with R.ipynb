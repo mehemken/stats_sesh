{
 "cells": [
  {
   "cell_type": "markdown",
   "metadata": {},
   "source": [
    "# Stats/ML Study Sesh\n",
    "\n",
    "## R version\n",
    "\n",
    "### Topics\n",
    "\n",
    "- Basic statistics review\n",
    "- Tableau R integration"
   ]
  },
  {
   "cell_type": "markdown",
   "metadata": {},
   "source": [
    "## Numerical measures\n",
    "\n",
    "From [R numerical measures](http://www.r-tutor.com/elementary-statistics/numerical-measures).\n",
    "\n",
    "- Mean\n",
    "- Median\n",
    "- Quartile\n",
    "- Percentile\n",
    "- Range\n",
    "- Interquartile range\n",
    "- [Variance](http://www.r-tutor.com/elementary-statistics/numerical-measures/variance)\n",
    "- [Standard deviation](http://www.r-tutor.com/elementary-statistics/numerical-measures/standard-deviation)\n",
    "- [Covariance](http://www.r-tutor.com/elementary-statistics/numerical-measures/covariance)\n",
    "- [Correlation coefficient](http://www.r-tutor.com/elementary-statistics/numerical-measures/correlation-coefficient)"
   ]
  },
  {
   "cell_type": "markdown",
   "metadata": {},
   "source": [
    "## Probability distributions\n",
    "\n",
    "From [R probability distributions](http://www.r-tutor.com/elementary-statistics/probability-distributions)\n",
    "\n",
    "- [Binomial distribution](http://www.r-tutor.com/elementary-statistics/probability-distributions/binomial-distribution)\n",
    "- [Poisson distribution](http://www.r-tutor.com/elementary-statistics/probability-distributions/poisson-distribution)\n",
    "- [Continuous uniform distribution](http://www.r-tutor.com/elementary-statistics/probability-distributions/continuous-uniform-distribution)\n",
    "- [Exponential distribution](http://www.r-tutor.com/elementary-statistics/probability-distributions/exponential-distribution)\n",
    "- [Normal distribution](http://www.r-tutor.com/elementary-statistics/probability-distributions/normal-distribution)\n",
    "- [Chi-squared distribution](http://www.r-tutor.com/elementary-statistics/probability-distributions/chi-squared-distribution)"
   ]
  },
  {
   "cell_type": "code",
   "execution_count": 2,
   "metadata": {},
   "outputs": [
    {
     "name": "stdout",
     "output_type": "stream",
     "text": [
      "[1]  3  6 12 17 32 49 50 90\n"
     ]
    },
    {
     "data": {
      "text/html": [
       "873.982142857143"
      ],
      "text/latex": [
       "873.982142857143"
      ],
      "text/markdown": [
       "873.982142857143"
      ],
      "text/plain": [
       "[1] 873.9821"
      ]
     },
     "metadata": {},
     "output_type": "display_data"
    }
   ],
   "source": [
    "my_list = c(3, 6, 12, 17, 32, 49, 50, 90)\n",
    "print(my_list)\n",
    "var(my_list)"
   ]
  }
 ],
 "metadata": {
  "kernelspec": {
   "display_name": "R",
   "language": "R",
   "name": "ir"
  },
  "language_info": {
   "codemirror_mode": "r",
   "file_extension": ".r",
   "mimetype": "text/x-r-source",
   "name": "R",
   "pygments_lexer": "r",
   "version": "3.4.1"
  }
 },
 "nbformat": 4,
 "nbformat_minor": 2
}

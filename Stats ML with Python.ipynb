{
 "cells": [
  {
   "cell_type": "markdown",
   "metadata": {},
   "source": [
    "# Stats/ML Study Sesh\n",
    "\n",
    "## Python version\n",
    "\n",
    "### Topics\n",
    "\n",
    "- Basic statistics review\n",
    "- Tableau Python integration"
   ]
  },
  {
   "cell_type": "markdown",
   "metadata": {},
   "source": [
    "## Numerical measures\n",
    "\n",
    "From [R numerical measures](http://www.r-tutor.com/elementary-statistics/numerical-measures).\n",
    "\n",
    "- Mean\n",
    "- Median\n",
    "- Quartile/Percentile\n",
    "- Range\n",
    "- Interquartile range\n",
    "- [Variance](http://www.r-tutor.com/elementary-statistics/numerical-measures/variance)\n",
    "- [Standard deviation](http://www.r-tutor.com/elementary-statistics/numerical-measures/standard-deviation)\n",
    "- [Covariance](http://www.r-tutor.com/elementary-statistics/numerical-measures/covariance)\n",
    "- [Correlation coefficient](http://www.r-tutor.com/elementary-statistics/numerical-measures/correlation-coefficient)"
   ]
  },
  {
   "cell_type": "markdown",
   "metadata": {
    "collapsed": true
   },
   "source": [
    "## Probability distributions\n",
    "\n",
    "From [R probability distributions](http://www.r-tutor.com/elementary-statistics/probability-distributions)\n",
    "\n",
    "- [Binomial distribution](http://www.r-tutor.com/elementary-statistics/probability-distributions/binomial-distribution)\n",
    "- [Poisson distribution](http://www.r-tutor.com/elementary-statistics/probability-distributions/poisson-distribution)\n",
    "- [Continuous uniform distribution](http://www.r-tutor.com/elementary-statistics/probability-distributions/continuous-uniform-distribution)\n",
    "- [Exponential distribution](http://www.r-tutor.com/elementary-statistics/probability-distributions/exponential-distribution)\n",
    "- [Normal distribution](http://www.r-tutor.com/elementary-statistics/probability-distributions/normal-distribution)\n",
    "- [Chi-squared distribution](http://www.r-tutor.com/elementary-statistics/probability-distributions/chi-squared-distribution)"
   ]
  },
  {
   "cell_type": "markdown",
   "metadata": {},
   "source": [
    "# Numerical measures"
   ]
  },
  {
   "cell_type": "markdown",
   "metadata": {},
   "source": [
    "### Our list in Python"
   ]
  },
  {
   "cell_type": "code",
   "execution_count": 1,
   "metadata": {},
   "outputs": [
    {
     "name": "stdout",
     "output_type": "stream",
     "text": [
      "My list of numbers:  [3, 6, 12, 17, 32, 49, 50, 90]\n"
     ]
    }
   ],
   "source": [
    "import numpy as np\n",
    "\n",
    "my_list = [3, 6, 12, 17, 32, 49, 50, 90]\n",
    "\n",
    "print('My list of numbers: ', my_list)"
   ]
  },
  {
   "cell_type": "markdown",
   "metadata": {},
   "source": [
    "We can take a look at what variables are available in the Jupyter environment. This includes all `code` cells. Variables cannot be used in markdown cells unfortunately."
   ]
  },
  {
   "cell_type": "code",
   "execution_count": 2,
   "metadata": {},
   "outputs": [
    {
     "name": "stdout",
     "output_type": "stream",
     "text": [
      "Variable   Type      Data/Info\n",
      "------------------------------\n",
      "my_list    list      n=8\n",
      "np         module    <module 'numpy' from '/ho<...>kages/numpy/__init__.py'>\n"
     ]
    }
   ],
   "source": [
    "whos"
   ]
  },
  {
   "cell_type": "markdown",
   "metadata": {},
   "source": [
    "### Mean and median"
   ]
  },
  {
   "cell_type": "code",
   "execution_count": 3,
   "metadata": {},
   "outputs": [
    {
     "name": "stdout",
     "output_type": "stream",
     "text": [
      "[3, 6, 12, 17, 32, 49, 50, 90]\n",
      "Mean: 32.375\n",
      "Median:  24.5\n"
     ]
    }
   ],
   "source": [
    "# The Pythonic way is to do only one thing per line\n",
    "# This:\n",
    "#\n",
    "# a = np.some_calculation(arg)\n",
    "# print(\"hello: \", a)\n",
    "#\n",
    "# is more readable than this:\n",
    "#\n",
    "# print(\"hello: \", np.some_calculation(arg))\n",
    "#\n",
    "\n",
    "print(my_list)\n",
    "\n",
    "m = np.mean(my_list)\n",
    "d = np.median(my_list)\n",
    "\n",
    "print(f'Mean: {m}')\n",
    "print('Median: ', d)"
   ]
  },
  {
   "cell_type": "markdown",
   "metadata": {},
   "source": [
    "### Quartiles and percentiles"
   ]
  },
  {
   "cell_type": "code",
   "execution_count": 4,
   "metadata": {},
   "outputs": [
    {
     "name": "stdout",
     "output_type": "stream",
     "text": [
      "[3, 6, 12, 17, 32, 49, 50, 90]\n",
      "25th percentile: 10.5\n",
      "50th percentile: 24.5\n",
      "75th percentile: 49.25\n",
      "3th percentile: 3.63\n",
      "9th percentile: 4.890000000000001\n",
      "90th percentile: 61.99999999999999\n",
      "99th percentile: 87.19999999999999\n"
     ]
    }
   ],
   "source": [
    "# If you need to calculate the same thing manytimes, use a loop:\n",
    "\n",
    "print(my_list)\n",
    "\n",
    "p_tiles = [25, 50, 75, 3, 9, 90, 99]\n",
    "\n",
    "for i in p_tiles:\n",
    "    p = np.percentile(my_list, i)\n",
    "    print(f'{i}th percentile: {p}')"
   ]
  },
  {
   "cell_type": "markdown",
   "metadata": {},
   "source": [
    "### Range"
   ]
  },
  {
   "cell_type": "code",
   "execution_count": 5,
   "metadata": {},
   "outputs": [
    {
     "name": "stdout",
     "output_type": "stream",
     "text": [
      "[3, 6, 12, 17, 32, 49, 50, 90]\n",
      "Range:  87\n"
     ]
    }
   ],
   "source": [
    "# In Python the keyword 'range' is already taken\n",
    "# so instead, numpy names it 'peak to peak'\n",
    "\n",
    "print(my_list)\n",
    "\n",
    "r = np.ptp(my_list)\n",
    "print('Range: ', r)"
   ]
  },
  {
   "cell_type": "markdown",
   "metadata": {},
   "source": [
    "### Interquartile Range"
   ]
  },
  {
   "cell_type": "code",
   "execution_count": 6,
   "metadata": {},
   "outputs": [
    {
     "name": "stdout",
     "output_type": "stream",
     "text": [
      "[3, 6, 12, 17, 32, 49, 50, 90]\n",
      "IQR:  38.75\n"
     ]
    }
   ],
   "source": [
    "print(my_list)\n",
    "\n",
    "# Numpy doesn't have a dedicated function for IQR\n",
    "q25, q75 = np.percentile(my_list, [25, 75])\n",
    "iqr = q75 - q25\n",
    "\n",
    "print('IQR: ', iqr)"
   ]
  },
  {
   "cell_type": "markdown",
   "metadata": {},
   "source": [
    "### Variance\n",
    "\n",
    "The **variance** is a numerical measure of how the data values are dispersed around the mean. The sample mean and variance are $\\bar{x}$ and $s^2$, respectively. The population mean and variance are $\\mu$ and $\\sigma^2$.\n",
    "\n",
    "To calculate the variance, you take each value and subtract the mean from it, then square the result. Once you have added all the squares divide that total by the number of observations. Actually, just one less than the total number of observations. It looks like this. Where $n$ is the total number of observations.\n",
    "\n",
    "$$s^2 = \\frac{(x_1 - \\bar{x})^2 + (x_2 - \\bar{x})^2 +\\;...\\,+ (x_n - \\bar{x})^2}{n-1}$$\n",
    "\n",
    "The fancy mathematical way to write it is like this.\n",
    "\n",
    "$$s^2=\\frac{1}{n-1}\\sum_{i=1}^n (x_{i}-\\bar{x})^2 \\qquad \\text{or} \\qquad \\sigma^2=\\frac{1}{n-1}\\sum_{i=1}^n (x_{i}-\\mu)^2$$"
   ]
  },
  {
   "cell_type": "code",
   "execution_count": 7,
   "metadata": {},
   "outputs": [
    {
     "name": "stdout",
     "output_type": "stream",
     "text": [
      "[3, 6, 12, 17, 32, 49, 50, 90]\n",
      "Variance: 873.9821428571429\n"
     ]
    }
   ],
   "source": [
    "print(my_list)\n",
    "\n",
    "# Numpy defaults to 0 degrees of freedom\n",
    "variance = np.var(my_list, ddof=1)\n",
    "\n",
    "print(f'Variance: {variance}')"
   ]
  },
  {
   "cell_type": "markdown",
   "metadata": {},
   "source": [
    "### Standard deviation\n",
    "\n",
    "The **standard deviation** of an observation variable is the square root of its variance.\n",
    "\n",
    "Sample $\\sqrt{s^2}$.\n",
    "\n",
    "Population $\\sqrt{\\sigma^2}$."
   ]
  },
  {
   "cell_type": "code",
   "execution_count": 8,
   "metadata": {},
   "outputs": [
    {
     "name": "stdout",
     "output_type": "stream",
     "text": [
      "[3, 6, 12, 17, 32, 49, 50, 90]\n",
      "Std dev: 29.5631889832126\n"
     ]
    }
   ],
   "source": [
    "print(my_list)\n",
    "\n",
    "std = np.std(my_list, ddof=1)\n",
    "\n",
    "print(f'Std dev: {std}')"
   ]
  },
  {
   "cell_type": "markdown",
   "metadata": {},
   "source": [
    "### Covariance\n",
    "\n",
    "The **covariance** ($s_{xy}$ or $\\sigma_{xy}$) of two variables *x* and *y* in a data set measures how the two are linearly related. A positive covariance would indicate a positive linear relationship between the variables, and a negative covariance would indicate the opposite.\n",
    "\n",
    "To calculate the covariance you take the error in each observation of both sets and multiply with its corresponding error in the other variable. Then you add all the products. Then you divide by one less than the total number of observations.\n",
    "\n",
    "$$s_{xy} = \\frac{(x_1 - \\bar{x})(y_1 - \\bar{y}) + (x_2 - \\bar{x})(y_2 - \\bar{y})\\;+\\;...\\,+\\;(x_n - \\bar{x})(y_n - \\bar{y})}{n-1}$$\n",
    "\n",
    "In fancy math notation this looks like so\n",
    "\n",
    "$$s_{xy}= \\frac{1}{n-1}\\sum_{i=1}^n(x_i - \\bar{x})(y_i - \\bar{y}) \\qquad or \\qquad \\sigma_{xy}= \\frac{1}{n-1}\\sum_{i=1}^n(x_i - \\mu_x)(y_i - \\mu_y)$$\n",
    "\n",
    "The `cov` function provided in numpy outputs a covariance matrix. In this case the covariance appears in the top right and bottom left."
   ]
  },
  {
   "cell_type": "code",
   "execution_count": 9,
   "metadata": {},
   "outputs": [
    {
     "name": "stdout",
     "output_type": "stream",
     "text": [
      "[3, 6, 12, 17, 32, 49, 50, 90]\n",
      "[20, 31, 33, 34, 35, 37, 41, 49]\n",
      "Covariance:\n",
      "[[ 873.98214286  221.14285714]\n",
      " [ 221.14285714   68.85714286]]\n"
     ]
    }
   ],
   "source": [
    "my_second_list = [20, 31, 33, 34, 35, 37, 41, 49]\n",
    "\n",
    "print(my_list)\n",
    "print(my_second_list)\n",
    "\n",
    "covar = np.cov(my_list, my_second_list, ddof=1)\n",
    "\n",
    "print(f'Covariance:\\n{covar}')"
   ]
  },
  {
   "cell_type": "markdown",
   "metadata": {},
   "source": [
    "### Correlation coefficient\n",
    "\n",
    "The **correlation coefficient** of two variables in a data set is equal to their covariance divided by the product of their individual standard deviations. It is a normalized measurement of how the two are linearly related.\n",
    "\n",
    "$$r_{xy} = \\frac{s_{xy}}{s_xs_y} \\qquad or \\qquad \\rho_{xy} = \\frac{\\sigma_{xy}}{\\sigma_x\\sigma_y}$$\n",
    "\n",
    "That's a lowercase rho by the way. In the below example, numpy returns a matrix. The reason is that the function is designed to return correlation of multiple data sets. The case of just two is a special case and does not justify changing the ouput type from matrix to integer."
   ]
  },
  {
   "cell_type": "code",
   "execution_count": 10,
   "metadata": {},
   "outputs": [
    {
     "name": "stdout",
     "output_type": "stream",
     "text": [
      "[3, 6, 12, 17, 32, 49, 50, 90] \n",
      "\n",
      "[20, 31, 33, 34, 35, 37, 41, 49] \n",
      "\n",
      "Correlation coeficient:\n",
      "[[ 1.         0.9014614]\n",
      " [ 0.9014614  1.       ]]\n"
     ]
    }
   ],
   "source": [
    "print(my_list, '\\n')\n",
    "print(my_second_list, '\\n')\n",
    "\n",
    "r = np.corrcoef(my_list, my_second_list)\n",
    "\n",
    "print(f'Correlation coeficient:\\n{r}')"
   ]
  },
  {
   "cell_type": "markdown",
   "metadata": {},
   "source": [
    "# Probability distributions"
   ]
  },
  {
   "cell_type": "markdown",
   "metadata": {},
   "source": []
  }
 ],
 "metadata": {
  "kernelspec": {
   "display_name": "Python 3",
   "language": "python",
   "name": "python3"
  },
  "language_info": {
   "codemirror_mode": {
    "name": "ipython",
    "version": 3
   },
   "file_extension": ".py",
   "mimetype": "text/x-python",
   "name": "python",
   "nbconvert_exporter": "python",
   "pygments_lexer": "ipython3",
   "version": "3.6.3"
  }
 },
 "nbformat": 4,
 "nbformat_minor": 2
}
